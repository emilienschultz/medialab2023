{
 "cells": [
  {
   "cell_type": "markdown",
   "id": "0874e117",
   "metadata": {},
   "source": [
    "# Exploration des tweets\n",
    "\n",
    "Sous-corpus #lancetgate"
   ]
  },
  {
   "cell_type": "markdown",
   "id": "87506d31",
   "metadata": {},
   "source": [
    "## Extraire les urls"
   ]
  },
  {
   "cell_type": "markdown",
   "id": "4d07e54b",
   "metadata": {},
   "source": [
    "Définir les chemins"
   ]
  },
  {
   "cell_type": "code",
   "execution_count": 3,
   "id": "50f037a8",
   "metadata": {},
   "outputs": [],
   "source": [
    "from pathlib import Path"
   ]
  },
  {
   "cell_type": "code",
   "execution_count": 4,
   "id": "fcf17e1c",
   "metadata": {},
   "outputs": [],
   "source": [
    "path_data = Path(\"../data/\")\n",
    "file = \"results_lg.zip\""
   ]
  },
  {
   "cell_type": "markdown",
   "id": "55c2278b",
   "metadata": {},
   "source": [
    "Importer les données"
   ]
  },
  {
   "cell_type": "code",
   "execution_count": 9,
   "id": "6877c1c2",
   "metadata": {},
   "outputs": [],
   "source": [
    "import pandas as pd\n",
    "data = pd.read_csv(path_data / file, low_memory=False)"
   ]
  },
  {
   "cell_type": "code",
   "execution_count": 13,
   "id": "4cb9320f",
   "metadata": {},
   "outputs": [
    {
     "data": {
      "text/plain": [
       "0    [\"https://twitter.com/NiusMarco/status/1370129...\n",
       "1                                                  NaN\n",
       "2                                                  NaN\n",
       "3                                                  NaN\n",
       "4                                                  NaN\n",
       "Name: entities.urls, dtype: object"
      ]
     },
     "execution_count": 13,
     "metadata": {},
     "output_type": "execute_result"
    }
   ],
   "source": [
    "data['entities.urls'].head()"
   ]
  },
  {
   "cell_type": "markdown",
   "id": "0a020f3f",
   "metadata": {},
   "source": [
    "Créer un ensemble de tous les liens"
   ]
  },
  {
   "cell_type": "code",
   "execution_count": 15,
   "id": "447fcdd1",
   "metadata": {},
   "outputs": [],
   "source": [
    "l = list(data['entities.urls'].dropna())"
   ]
  },
  {
   "cell_type": "code",
   "execution_count": 18,
   "id": "e60888fb",
   "metadata": {},
   "outputs": [
    {
     "data": {
      "text/plain": [
       "'[\"https://www.francesoir.fr/societe/la-face-obscure-du-fact-checking-francais-nouvelles-revelations-propos-d-antoine-daoust\"]'"
      ]
     },
     "execution_count": 18,
     "metadata": {},
     "output_type": "execute_result"
    }
   ],
   "source": [
    "l[10]"
   ]
  },
  {
   "cell_type": "markdown",
   "id": "77ef6f9d",
   "metadata": {},
   "source": [
    "Un souci : c'est une chaine de caractère, le stockage a mal été fait, il va falloir parser."
   ]
  },
  {
   "cell_type": "markdown",
   "id": "2d15cb17",
   "metadata": {},
   "source": [
    "Définissons une fonction qui extrait les urls à partir de cette chaine de caractères (par ex, séparer à \",\", puis enlever les bouts...)"
   ]
  },
  {
   "cell_type": "code",
   "execution_count": null,
   "id": "ccf661ac",
   "metadata": {},
   "outputs": [],
   "source": []
  },
  {
   "cell_type": "code",
   "execution_count": null,
   "id": "1669c152",
   "metadata": {},
   "outputs": [],
   "source": []
  },
  {
   "cell_type": "markdown",
   "id": "d0e3defd",
   "metadata": {},
   "source": [
    "Script Simon"
   ]
  },
  {
   "cell_type": "code",
   "execution_count": null,
   "id": "4ce3673b",
   "metadata": {},
   "outputs": [],
   "source": [
    "# Extraire les liens les plus partgés par les gens ***********\n",
    "import regex as re\n",
    "\n",
    "liens_1 = []\n",
    "for mot in data[\"text\"]:\n",
    "    if re.findall(\"(?P<url>https?://[^\\s]+)\",str(mot))!= [] :\n",
    "        liens_1.append(re.findall(\"(?P<url>https?://[^\\s]+)\",str(mot)))\n",
    "print(\"Il y a {} tweets avec des liens\".format(len(liens_1)))   \n",
    "liens = []\n",
    "for sublist in liens_1:\n",
    "    for item in sublist:\n",
    "        liens.append(item)\n",
    "print(\"Il y a {} liens mentionnés au total\".format(len(liens))) \n",
    "\n",
    "\n",
    "\n",
    "#Liens uniques *****************************************************\n",
    "lien_unique = [] \n",
    "for i in liens:\n",
    "    if i not in lien_unique:\n",
    "        lien_unique.append(str(i)) \n",
    "print(\"Il y a {} liens UNIQUES mentionnés au total\".format(len(lien_unique))) \n",
    "\n",
    "\n",
    "\n",
    "# Fréquence des liens ***********************************\n",
    "dico_liens = {}\n",
    "nb_occurences = []\n",
    "nb = 0\n",
    "\n",
    "for i in lien_unique:\n",
    "    for p in liens:\n",
    "       nb_occurences.append(p.count(i))\n",
    "    dico_liens[i] = sum(nb_occurences)\n",
    "    #print(\"LIEN : {} = {} FREQ\".format(i,sum(nb_occurences)))\n",
    "    nb_occurences = []\n",
    "    \n",
    "sorted(dico_liens.items(),reverse=True, key=lambda item: item[1])[:20]\n",
    "\n",
    "# Export en CSV\n",
    "df = pd.DataFrame.from_dict({'liens': dico_liens.keys(), 'occurence': dico_liens.values()}) \n",
    "df.to_csv(r'C:/Users/Simon/Dropbox/Mon PC (LAPTOP-E60PD4FT)/Desktop/Stage-MediaLab/LancetGate/00.DataRawTweets_LancetGate/Liens_Occurences_FINAL_2.csv', index=False, header=True, sep=\";\")\n",
    "\n"
   ]
  }
 ],
 "metadata": {
  "kernelspec": {
   "display_name": "Python 3 (ipykernel)",
   "language": "python",
   "name": "python3"
  },
  "language_info": {
   "codemirror_mode": {
    "name": "ipython",
    "version": 3
   },
   "file_extension": ".py",
   "mimetype": "text/x-python",
   "name": "python",
   "nbconvert_exporter": "python",
   "pygments_lexer": "ipython3",
   "version": "3.9.7"
  }
 },
 "nbformat": 4,
 "nbformat_minor": 5
}
